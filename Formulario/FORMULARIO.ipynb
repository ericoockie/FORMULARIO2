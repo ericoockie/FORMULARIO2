{
 "cells": [
  {
   "cell_type": "code",
   "execution_count": 2,
   "metadata": {},
   "outputs": [],
   "source": [
    "#https://www.ef.com.pa/cp/brochure/ils/"
   ]
  },
  {
   "cell_type": "code",
   "execution_count": 123,
   "metadata": {},
   "outputs": [],
   "source": [
    "#nombres\n",
    "#<input id=\"brochure-firstName\" type=\"text\" name=\"firstName\" class=\"ef-input\" autocomplete=\"given-name\" fdprocessedid=\"9ojvom\">\n",
    "#apellidos\n",
    "#<input id=\"brochure-lastName\" type=\"text\" name=\"lastName\" class=\"ef-input\" autocomplete=\"family-name\" fdprocessedid=\"9l6co\">\n",
    "#Email\n",
    "#<input id=\"brochure-email\" type=\"email\" name=\"email\" class=\"ef-input\" autocomplete=\"email\" fdprocessedid=\"f08wv\">\n",
    "#Direccion completa\n",
    "#<input id=\"brochure-addressLine1\" type=\"text\" name=\"addressLine1\" class=\"ef-input\" autocomplete=\"street-address\" fdprocessedid=\"tejjw8\">\n",
    "#Casa Edificio Apto\n",
    "#<input id=\"brochure-addressLine2\" type=\"text\" name=\"addressLine2\" class=\"ef-input\" fdprocessedid=\"kzo8x2\">\n",
    "#Ciudad\n",
    "#<input id=\"brochure-city\" type=\"text\" name=\"city\" class=\"ef-input\" autocomplete=\"address-level2\" fdprocessedid=\"sh20h\">\n",
    "#Provincia\n",
    "#<select id=\"brochure-state\" type=\"text\" name=\"state\" class=\"ef-input\" value=\"\" autocomplete=\"address-level1\" fdprocessedid=\"dogobx\"><option value=\"\" selected=\"selected\">-----Elige-----  </option><option value=\"1|Bocas del Toro|0|Bocas del Toro|\">Bocas del Toro</option><option value=\"4|Chiriquí|0|Chiriqui|\">Chiriquí</option><option value=\"2|Coclé|0|Cocle|\">Coclé</option><option value=\"3|Colón|0|Colon|\">Colón</option><option value=\"EM|San Blas – Comarca|0|Comarca Embera - Wounaan|\">San Blas – Comarca</option><option value=\"KY|Comarca Kuna Yala|0|Comarca Kuna Yala|\">Comarca Kuna Yala</option><option value=\"NB|Comarca Ngöbe-Buglé|0|Comarca Ngobe-Bugle|\">Comarca Ngöbe-Buglé</option><option value=\"5|Darién|0|Darien|\">Darién</option><option value=\"6|Herrera|0|Herrera|\">Herrera</option><option value=\"CHR|La Chorrera|0|La Chorrera|\">La Chorrera</option><option value=\"7|Los Santos|0|Loa Santoa|\">Los Santos</option><option value=\"8|Panamá|0|Panama|\">Panamá</option><option value=\"9|Veraguas|0|Veraguas|\">Veraguas</option></select>\n",
    "#Optio Celular\n",
    "#<input id=\"brochure-phoneRadio-MP\" name=\"brochure-phoneRadio\" type=\"radio\" value=\"MP\" class=\"check-custom ef-boolean__input\" checked=\"checked\">\n",
    "#Option Telefono fijo\n",
    "#<input id=\"brochure-phoneRadio-HP\" name=\"brochure-phoneRadio\" type=\"radio\" value=\"HP\" class=\"check-custom ef-boolean__input\">\n",
    "#Caja de Texto Celular\n",
    "#<input id=\"brochure-mobilePhone\" type=\"tel\" pattern=\"[0-9]*\" name=\"mobilePhone\" class=\"ef-input\" autocomplete=\"tel\" fdprocessedid=\"v4j1i\">\n",
    "#Como te enterastes\n",
    "#<select id=\"brochure-userSelectedSourceCode\" type=\"text\" name=\"userSelectedSourceCode\" class=\"ef-input\" value=\"\" autocomplete=\"\" fdprocessedid=\"xohtoj\"><option value=\"\" selected=\"selected\">-----Elige-----  </option><option value=\"01400\">Amigo</option><option value=\"02000\">La Escuela</option><option value=\"02300\">Correo de EF</option><option value=\"00200\">Periódico</option><option value=\"01100\">Feria de estudiantes</option><option value=\"00700\">Internet</option></select>\n",
    "#Catalogo\n",
    "#<input id=\"brochure-deliveryPreference-F-B\" name=\"brochure-deliveryPreference\" type=\"radio\" value=\"F-B\" class=\"check-custom ef-boolean__input\">\n",
    "    #<input id=\"brochure-addressLine1\" type=\"text\" name=\"addressLine1\" class=\"ef-input\" autocomplete=\"street-address\">\n",
    "    #<input id=\"brochure-addressLine2\" type=\"text\" name=\"addressLine2\" class=\"ef-input\">\n",
    "    #<input id=\"brochure-city\" type=\"text\" name=\"city\" class=\"ef-input\" autocomplete=\"address-level2\">\n",
    "#<input id=\"brochure-deliveryPreference-e-B\" name=\"brochure-deliveryPreference\" type=\"radio\" value=\"e-B\" class=\"check-custom ef-boolean__input\" checked=\"checked\">\n",
    "\n"
   ]
  },
  {
   "cell_type": "code",
   "execution_count": 1,
   "metadata": {},
   "outputs": [],
   "source": [
    "def slow_typing(element, text):\n",
    "    for character in text:\n",
    "        element.send_keys(character)\n",
    "        #time.sleep(0.3)\n",
    "\n",
    "def id_llenar_texto(element, text):\n",
    "    slow_typing(element, str(text))\n",
    "\n",
    "def id_llenar_list(element, text):\n",
    "    Select(element).select_by_visible_text(str(text))\n",
    "\n"
   ]
  },
  {
   "cell_type": "code",
   "execution_count": 2,
   "metadata": {},
   "outputs": [],
   "source": [
    "from selenium.webdriver import Chrome\n",
    "from selenium import webdriver\n",
    "from selenium.webdriver.support.ui import Select\n",
    "from selenium.webdriver.chrome.options import Options\n",
    "from bs4 import BeautifulSoup\n",
    "import pandas as pd\n",
    "import time\n",
    "\n",
    "diccionario = {\n",
    "    \"id_optcatalogo1\":[\"brochure-deliveryPreference-F-B\",\"radio\",\"brochure-addressLine1\", \"brochure-addressLine2\", \"brochure-city\"],#casa+email\n",
    "    \"id_optcatalogo2\":[\"brochure-deliveryPreference-e-B\",\"radio\"],\n",
    "    \"id_nombre\":[\"brochure-firstName\", \"text\"], \n",
    "    \"id_apellido\":[\"brochure-lastName\", \"text\"],\n",
    "    \"id_email\": [\"brochure-email\", \"text\"],\n",
    "    \"id_direccion1\":[\"brochure-addressLine1\", \"text\"],\n",
    "    \"id_direccion2\":[\"brochure-addressLine2\",\"text\"],\n",
    "    \"id_city\":[\"brochure-city\",\"text\"],\n",
    "    \"id_provincia\":[\"brochure-state\",\"text\"],\n",
    "    \"id_optcelular\":[\"brochure-phoneRadio-MP\",\"radio\"],\n",
    "    \"id_opttel\":[\"brochure-phoneRadio-HP\",\"radio\"],\n",
    "    \"id_cel\":[\"brochure-mobilePhone\",\"tel\"],\n",
    "    \"id_pregunta\":[\"brochure-userSelectedSourceCode\",\"text\"]}"
   ]
  },
  {
   "cell_type": "code",
   "execution_count": 4,
   "metadata": {},
   "outputs": [
    {
     "name": "stderr",
     "output_type": "stream",
     "text": [
      "c:\\Users\\Erika\\OneDrive\\Documents\\PYTHON 102\\FINAL\\Formulario\\Lib\\site-packages\\openpyxl\\worksheet\\_reader.py:329: UserWarning: Data Validation extension is not supported and will be removed\n",
      "  warn(msg)\n"
     ]
    }
   ],
   "source": [
    "driver = webdriver.Chrome()\n",
    "\n",
    "ruta = \"listado.xlsx\"\n",
    "archivo = pd.read_excel(ruta)\n",
    "df = archivo.head()\n",
    "\n",
    "for i in df.index:\n",
    "      driver.get('https://www.ef.com.pa/cp/brochure/ils/')\n",
    "      id_llenar_texto(driver.find_element(\"id\", diccionario[\"id_nombre\"][0]), df['Nombre'][i])\n",
    "      id_llenar_texto(driver.find_element(\"id\", diccionario[\"id_apellido\"][0]), df['Apellido'][i])\n",
    "      id_llenar_texto(driver.find_element(\"id\", diccionario[\"id_email\"][0]), df['Email'][i])\n",
    "      id_llenar_list(driver.find_element(\"id\", diccionario[\"id_provincia\"][0]),df['Provincia'][i])\n",
    "      id_llenar_texto(driver.find_element(\"id\", diccionario[\"id_cel\"][0]), df['Celular'][i])\n",
    "      id_llenar_list(driver.find_element(\"id\", diccionario[\"id_pregunta\"][0]),df['Pregunta'][i])\n",
    "      time.sleep(10)\n",
    "driver.quit() #cierra la pagina\n"
   ]
  },
  {
   "cell_type": "code",
   "execution_count": 140,
   "metadata": {},
   "outputs": [
    {
     "name": "stdout",
     "output_type": "stream",
     "text": [
      "<bound method WebElement.is_selected of <selenium.webdriver.remote.webelement.WebElement (session=\"42bc03e8357b624c10cc7a978ddffb00\", element=\"693DC3F5B3C49A83A79E56DC54C95C2D_element_71\")>>\n"
     ]
    },
    {
     "ename": "ElementNotInteractableException",
     "evalue": "Message: element not interactable\n  (Session info: chrome=114.0.5735.110)\nStacktrace:\nBacktrace:\n\tGetHandleVerifier [0x00FBA813+48355]\n\t(No symbol) [0x00F4C4B1]\n\t(No symbol) [0x00E55220]\n\t(No symbol) [0x00E81846]\n\t(No symbol) [0x00E79F5C]\n\t(No symbol) [0x00E9A73C]\n\t(No symbol) [0x00E79A36]\n\t(No symbol) [0x00E9AA94]\n\t(No symbol) [0x00EAC922]\n\t(No symbol) [0x00E9A536]\n\t(No symbol) [0x00E782DC]\n\t(No symbol) [0x00E793DD]\n\tGetHandleVerifier [0x0121AABD+2539405]\n\tGetHandleVerifier [0x0125A78F+2800735]\n\tGetHandleVerifier [0x0125456C+2775612]\n\tGetHandleVerifier [0x010451E0+616112]\n\t(No symbol) [0x00F55F8C]\n\t(No symbol) [0x00F52328]\n\t(No symbol) [0x00F5240B]\n\t(No symbol) [0x00F44FF7]\n\tBaseThreadInitThunk [0x76337D59+25]\n\tRtlInitializeExceptionChain [0x7728B74B+107]\n\tRtlClearBits [0x7728B6CF+191]\n",
     "output_type": "error",
     "traceback": [
      "\u001b[1;31m---------------------------------------------------------------------------\u001b[0m",
      "\u001b[1;31mElementNotInteractableException\u001b[0m           Traceback (most recent call last)",
      "Cell \u001b[1;32mIn[140], line 15\u001b[0m\n\u001b[0;32m     13\u001b[0m     \u001b[39mpass\u001b[39;00m\n\u001b[0;32m     14\u001b[0m     \u001b[39mprint\u001b[39m(elemento\u001b[39m.\u001b[39mis_selected)\n\u001b[1;32m---> 15\u001b[0m     elemento\u001b[39m.\u001b[39;49mclick()\n\u001b[0;32m     16\u001b[0m \u001b[39melse\u001b[39;00m:\n\u001b[0;32m     17\u001b[0m     elemento\u001b[39m.\u001b[39mclick()\n",
      "File \u001b[1;32mc:\\Users\\Erika\\OneDrive\\Documents\\PYTHON 102\\FINAL\\Formulario\\Lib\\site-packages\\selenium\\webdriver\\remote\\webelement.py:94\u001b[0m, in \u001b[0;36mWebElement.click\u001b[1;34m(self)\u001b[0m\n\u001b[0;32m     92\u001b[0m \u001b[39mdef\u001b[39;00m \u001b[39mclick\u001b[39m(\u001b[39mself\u001b[39m) \u001b[39m-\u001b[39m\u001b[39m>\u001b[39m \u001b[39mNone\u001b[39;00m:\n\u001b[0;32m     93\u001b[0m \u001b[39m    \u001b[39m\u001b[39m\"\"\"Clicks the element.\"\"\"\u001b[39;00m\n\u001b[1;32m---> 94\u001b[0m     \u001b[39mself\u001b[39;49m\u001b[39m.\u001b[39;49m_execute(Command\u001b[39m.\u001b[39;49mCLICK_ELEMENT)\n",
      "File \u001b[1;32mc:\\Users\\Erika\\OneDrive\\Documents\\PYTHON 102\\FINAL\\Formulario\\Lib\\site-packages\\selenium\\webdriver\\remote\\webelement.py:395\u001b[0m, in \u001b[0;36mWebElement._execute\u001b[1;34m(self, command, params)\u001b[0m\n\u001b[0;32m    393\u001b[0m     params \u001b[39m=\u001b[39m {}\n\u001b[0;32m    394\u001b[0m params[\u001b[39m\"\u001b[39m\u001b[39mid\u001b[39m\u001b[39m\"\u001b[39m] \u001b[39m=\u001b[39m \u001b[39mself\u001b[39m\u001b[39m.\u001b[39m_id\n\u001b[1;32m--> 395\u001b[0m \u001b[39mreturn\u001b[39;00m \u001b[39mself\u001b[39;49m\u001b[39m.\u001b[39;49m_parent\u001b[39m.\u001b[39;49mexecute(command, params)\n",
      "File \u001b[1;32mc:\\Users\\Erika\\OneDrive\\Documents\\PYTHON 102\\FINAL\\Formulario\\Lib\\site-packages\\selenium\\webdriver\\remote\\webdriver.py:346\u001b[0m, in \u001b[0;36mWebDriver.execute\u001b[1;34m(self, driver_command, params)\u001b[0m\n\u001b[0;32m    344\u001b[0m response \u001b[39m=\u001b[39m \u001b[39mself\u001b[39m\u001b[39m.\u001b[39mcommand_executor\u001b[39m.\u001b[39mexecute(driver_command, params)\n\u001b[0;32m    345\u001b[0m \u001b[39mif\u001b[39;00m response:\n\u001b[1;32m--> 346\u001b[0m     \u001b[39mself\u001b[39;49m\u001b[39m.\u001b[39;49merror_handler\u001b[39m.\u001b[39;49mcheck_response(response)\n\u001b[0;32m    347\u001b[0m     response[\u001b[39m\"\u001b[39m\u001b[39mvalue\u001b[39m\u001b[39m\"\u001b[39m] \u001b[39m=\u001b[39m \u001b[39mself\u001b[39m\u001b[39m.\u001b[39m_unwrap_value(response\u001b[39m.\u001b[39mget(\u001b[39m\"\u001b[39m\u001b[39mvalue\u001b[39m\u001b[39m\"\u001b[39m, \u001b[39mNone\u001b[39;00m))\n\u001b[0;32m    348\u001b[0m     \u001b[39mreturn\u001b[39;00m response\n",
      "File \u001b[1;32mc:\\Users\\Erika\\OneDrive\\Documents\\PYTHON 102\\FINAL\\Formulario\\Lib\\site-packages\\selenium\\webdriver\\remote\\errorhandler.py:245\u001b[0m, in \u001b[0;36mErrorHandler.check_response\u001b[1;34m(self, response)\u001b[0m\n\u001b[0;32m    243\u001b[0m         alert_text \u001b[39m=\u001b[39m value[\u001b[39m\"\u001b[39m\u001b[39malert\u001b[39m\u001b[39m\"\u001b[39m]\u001b[39m.\u001b[39mget(\u001b[39m\"\u001b[39m\u001b[39mtext\u001b[39m\u001b[39m\"\u001b[39m)\n\u001b[0;32m    244\u001b[0m     \u001b[39mraise\u001b[39;00m exception_class(message, screen, stacktrace, alert_text)  \u001b[39m# type: ignore[call-arg]  # mypy is not smart enough here\u001b[39;00m\n\u001b[1;32m--> 245\u001b[0m \u001b[39mraise\u001b[39;00m exception_class(message, screen, stacktrace)\n",
      "\u001b[1;31mElementNotInteractableException\u001b[0m: Message: element not interactable\n  (Session info: chrome=114.0.5735.110)\nStacktrace:\nBacktrace:\n\tGetHandleVerifier [0x00FBA813+48355]\n\t(No symbol) [0x00F4C4B1]\n\t(No symbol) [0x00E55220]\n\t(No symbol) [0x00E81846]\n\t(No symbol) [0x00E79F5C]\n\t(No symbol) [0x00E9A73C]\n\t(No symbol) [0x00E79A36]\n\t(No symbol) [0x00E9AA94]\n\t(No symbol) [0x00EAC922]\n\t(No symbol) [0x00E9A536]\n\t(No symbol) [0x00E782DC]\n\t(No symbol) [0x00E793DD]\n\tGetHandleVerifier [0x0121AABD+2539405]\n\tGetHandleVerifier [0x0125A78F+2800735]\n\tGetHandleVerifier [0x0125456C+2775612]\n\tGetHandleVerifier [0x010451E0+616112]\n\t(No symbol) [0x00F55F8C]\n\t(No symbol) [0x00F52328]\n\t(No symbol) [0x00F5240B]\n\t(No symbol) [0x00F44FF7]\n\tBaseThreadInitThunk [0x76337D59+25]\n\tRtlInitializeExceptionChain [0x7728B74B+107]\n\tRtlClearBits [0x7728B6CF+191]\n"
     ]
    }
   ],
   "source": [
    "# driver = webdriver.Chrome()\n",
    "# driver.get('https://www.ef.com.pa/cp/brochure/ils/')\n",
    "\n",
    "# elemento = driver.find_element(\"id\", \"brochure-deliveryPreference-e-B\")\n",
    "# if (elemento.is_selected):\n",
    "#     pass\n",
    "# else:\n",
    "#     elemento.click()\n",
    "#     print(\"no lo hace AAAATRRR\")\n",
    "\n",
    "# elemento = driver.find_element(\"id\", \"brochure-deliveryPreference-F-B\")\n",
    "# if (elemento.is_selected):       \n",
    "#     pass\n",
    "#     print(elemento.is_selected)\n",
    "#     elemento.click()\n",
    "# else:\n",
    "#     elemento.click()\n",
    "#     print(\"no lo hace\")\n",
    "\n",
    "# elemento = driver.find_element(\"id\", \"brochure-phoneRadio-HP\")\n",
    "# #elemento.click()\n",
    "\n",
    "# elemento = driver.find_element(\"id\", diccionario[\"id_pregunta\"][0])\n",
    "# Select(elemento).select_by_visible_text(\"Amigo\")"
   ]
  },
  {
   "cell_type": "code",
   "execution_count": 128,
   "metadata": {},
   "outputs": [],
   "source": [
    "# driver = webdriver.Chrome()\n",
    "# driver.get('http://demo.guru99.com/test/radio.html')\n",
    "# #Se localiza el primer radio button por su id\n",
    "# radio1 = driver.find_element(\"id\", \"vfb-7-1\")\n",
    "# #// Se localiza el segundo radio button por su id\n",
    "# radio2 = driver.find_element(\"id\", \"vfb-7-2\")\n",
    "# #Seleccionar el primer radio button\n",
    "# radio1.click();\n",
    "# #El radio button 1 es deseleccionado y el segundo es seleccionado\n",
    "# radio2.click();"
   ]
  },
  {
   "cell_type": "code",
   "execution_count": null,
   "metadata": {},
   "outputs": [],
   "source": [
    "#     if (str(df['ENVIO'][i])=='S'):\n",
    "#           print(df['Direccion1'][i])\n",
    "#           elemento = driver.find_element(\"id\", diccionario[\"id_optcatalogo1\"][0])\n",
    "#           elemento.click;\n",
    "#           elemento = driver.find_element(\"id\", diccionario[\"id_optcatalogo1\"][2])\n",
    "#           #slow_typing(elemento, str(df['Direccion1'][i]))\n",
    "#           elemento = driver.find_element(\"id\", diccionario[\"id_optcatalogo1\"][3])\n",
    "#           #slow_typing(elemento, df['Edificio/Casa'][i])\n",
    "#           elemento = driver.find_element(\"id\", diccionario[\"id_optcatalogo1\"][4])\n",
    "#           #slow_typing(elemento, df['Ciudad'][i])\n",
    "#     elif (str(df['ENVIO'][i])=='N'):\n",
    "#           elemento = driver.find_element(\"id\", diccionario[\"id_optcatalogo2\"][0])\n",
    "#           elemento.click;\n",
    "#     else:\n",
    "#           elemento = driver.find_element(\"id\", diccionario[\"id_optcatalogo2\"][0])\n",
    "#           elemento.click;\n",
    "\n",
    "      #elemento = driver.find_element(\"id\", diccionario[\"id_nombre\"][0])\n",
    "      #slow_typing(elemento, df['Nombre'][i])\n",
    "      # id_llenar_texto(driver.find_element(\"id\", diccionario[\"id_nombre\"][0]), df['Nombre'][i])\n",
    "      # elemento = driver.find_element(\"id\", diccionario[\"id_apellido\"][0])\n",
    "      # slow_typing(elemento, df['Apellido'][i])\n",
    "      # elemento = driver.find_element(\"id\", diccionario[\"id_email\"][0])\n",
    "      # slow_typing(elemento, df['Email'][i])\n",
    "      # #elemento = driver.find_element(\"id\", diccionario[\"id_provincia\"][0])\n",
    "      # #Select(elemento).select_by_visible_text(str(df['Provincia'][i]))\n",
    "      # id_llenar_list(driver.find_element(\"id\", diccionario[\"id_provincia\"][0]),df['Provincia'][i])\n",
    "      # elemento = driver.find_element(\"id\", diccionario[\"id_cel\"][0])\n",
    "      # slow_typing(elemento, str(df['Celular'][i]))  \n",
    "\n",
    "#     if (str(df['Celular/Tel'][i])=='C'):\n",
    "#          elemento = driver.find_element(\"id\", diccionario[\"id_optcelular\"][0])\n",
    "#          elemento.click;\n",
    "#          elemento = driver.find_element(\"id\", diccionario[\"id_cel\"][0])\n",
    "#          slow_typing(elemento, str(df['Celular'][i]))   \n",
    "#     elif (str(df['Celular/Tel'][i])=='T'):\n",
    "#          elemento = driver.find_element(\"id\", diccionario[\"id_opttel\"][0])\n",
    "#          elemento.click;\n",
    "#          elemento = driver.find_element(\"id\", diccionario[\"id_tel\"][0])\n",
    "#          slow_typing(elemento, str(df['Celular'][i]))\n",
    "      #elemento = driver.find_element(\"id\", diccionario[\"id_pregunta\"][0])\n",
    "      #Select(elemento).select_by_visible_text(str(df['Pregunta'][i]))\n",
    "      # id_llenar_list(driver.find_element(\"id\", diccionario[\"id_pregunta\"][0]),df['Pregunta'][i])\n",
    "      # time.sleep(30)\n",
    "#driver.quit() #cierra la pagina"
   ]
  },
  {
   "cell_type": "code",
   "execution_count": 79,
   "metadata": {},
   "outputs": [
    {
     "name": "stdout",
     "output_type": "stream",
     "text": [
      "via argentina\n"
     ]
    },
    {
     "name": "stderr",
     "output_type": "stream",
     "text": [
      "c:\\Users\\Erika\\OneDrive\\Documents\\PYTHON 102\\FINAL\\Formulario\\Lib\\site-packages\\openpyxl\\worksheet\\_reader.py:329: UserWarning: Data Validation extension is not supported and will be removed\n",
      "  warn(msg)\n"
     ]
    }
   ],
   "source": [
    "# ruta = \"listado.xlsx\"\n",
    "# archivo = pd.read_excel(ruta)\n",
    "# df = archivo.head()\n",
    "# #print(df)\n",
    "# #print(archivo)\n",
    "# # datos = archivo.value\n",
    "# for i in df.index:\n",
    "#      print(df['Direccion1'][i])\n",
    "\n",
    "  "
   ]
  }
 ],
 "metadata": {
  "kernelspec": {
   "display_name": "Formulario",
   "language": "python",
   "name": "python3"
  },
  "language_info": {
   "codemirror_mode": {
    "name": "ipython",
    "version": 3
   },
   "file_extension": ".py",
   "mimetype": "text/x-python",
   "name": "python",
   "nbconvert_exporter": "python",
   "pygments_lexer": "ipython3",
   "version": "3.11.0"
  },
  "orig_nbformat": 4
 },
 "nbformat": 4,
 "nbformat_minor": 2
}
